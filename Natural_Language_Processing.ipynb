{
  "cells": [
    {
      "cell_type": "markdown",
      "id": "c9da32d6",
      "metadata": {
        "id": "c9da32d6"
      },
      "source": [
        "# NLP Using PySpark"
      ]
    },
    {
      "cell_type": "code",
      "source": [
        "from pyspark.sql import SparkSession\n",
        "from pyspark.sql.functions import col\n",
        "from pyspark.ml.feature import Tokenizer, StopWordsRemover, CountVectorizer, StringIndexer, IDF\n",
        "from pyspark.ml import Pipeline\n",
        "from pyspark.ml.classification import NaiveBayes\n",
        "from pyspark.ml.evaluation import MulticlassClassificationEvaluator\n",
        "from pyspark.sql.functions import length\n",
        "from pyspark.ml.feature import VectorAssembler\n"
      ],
      "metadata": {
        "id": "L8q9Zn8F-zr9"
      },
      "id": "L8q9Zn8F-zr9",
      "execution_count": 14,
      "outputs": []
    },
    {
      "cell_type": "markdown",
      "id": "8326ba88",
      "metadata": {
        "id": "8326ba88"
      },
      "source": [
        "##Spam filter using NaiveBayes classifier:\n"
      ]
    },
    {
      "cell_type": "code",
      "source": [
        "#Spark session\n",
        "spark = SparkSession.builder \\\n",
        "    .appName(\"SpamFilter\") \\\n",
        "    .getOrCreate()"
      ],
      "metadata": {
        "id": "mZ9x6Mc7Oe3-"
      },
      "id": "mZ9x6Mc7Oe3-",
      "execution_count": 4,
      "outputs": []
    },
    {
      "cell_type": "code",
      "source": [
        "data = spark.read.option(\"sep\", \"\\t\").csv(\"/content/SMSSpamCollection\", inferSchema=True, header=False)"
      ],
      "metadata": {
        "id": "OReU7stUOuNS"
      },
      "id": "OReU7stUOuNS",
      "execution_count": 6,
      "outputs": []
    },
    {
      "cell_type": "code",
      "source": [
        "data.printSchema()"
      ],
      "metadata": {
        "colab": {
          "base_uri": "https://localhost:8080/"
        },
        "id": "5yPps6l9O4s9",
        "outputId": "3d63ed0d-0ad5-4d62-acfd-297b39fe9bfc"
      },
      "id": "5yPps6l9O4s9",
      "execution_count": 7,
      "outputs": [
        {
          "output_type": "stream",
          "name": "stdout",
          "text": [
            "root\n",
            " |-- _c0: string (nullable = true)\n",
            " |-- _c1: string (nullable = true)\n",
            "\n"
          ]
        }
      ]
    },
    {
      "cell_type": "code",
      "source": [
        "data = data.withColumnRenamed(\"_c0\", \"class\").withColumnRenamed(\"_c1\", \"text\")"
      ],
      "metadata": {
        "id": "Slx-XA58O8rg"
      },
      "id": "Slx-XA58O8rg",
      "execution_count": 8,
      "outputs": []
    },
    {
      "cell_type": "code",
      "source": [
        "data.show(10, truncate=True)\n",
        "data.show(10, truncate=False)"
      ],
      "metadata": {
        "colab": {
          "base_uri": "https://localhost:8080/"
        },
        "id": "7k4Wjqs7PFpx",
        "outputId": "241ed8e4-f2e0-45f8-ab4f-82ad5e1dec44"
      },
      "id": "7k4Wjqs7PFpx",
      "execution_count": 9,
      "outputs": [
        {
          "output_type": "stream",
          "name": "stdout",
          "text": [
            "+-----+--------------------+\n",
            "|class|                text|\n",
            "+-----+--------------------+\n",
            "|  ham|Go until jurong p...|\n",
            "|  ham|Ok lar... Joking ...|\n",
            "| spam|Free entry in 2 a...|\n",
            "|  ham|U dun say so earl...|\n",
            "|  ham|Nah I don't think...|\n",
            "| spam|FreeMsg Hey there...|\n",
            "|  ham|Even my brother i...|\n",
            "|  ham|As per your reque...|\n",
            "| spam|WINNER!! As a val...|\n",
            "| spam|Had your mobile 1...|\n",
            "+-----+--------------------+\n",
            "only showing top 10 rows\n",
            "\n",
            "+-----+----------------------------------------------------------------------------------------------------------------------------------------------------------------+\n",
            "|class|text                                                                                                                                                            |\n",
            "+-----+----------------------------------------------------------------------------------------------------------------------------------------------------------------+\n",
            "|ham  |Go until jurong point, crazy.. Available only in bugis n great world la e buffet... Cine there got amore wat...                                                 |\n",
            "|ham  |Ok lar... Joking wif u oni...                                                                                                                                   |\n",
            "|spam |Free entry in 2 a wkly comp to win FA Cup final tkts 21st May 2005. Text FA to 87121 to receive entry question(std txt rate)T&C's apply 08452810075over18's     |\n",
            "|ham  |U dun say so early hor... U c already then say...                                                                                                               |\n",
            "|ham  |Nah I don't think he goes to usf, he lives around here though                                                                                                   |\n",
            "|spam |FreeMsg Hey there darling it's been 3 week's now and no word back! I'd like some fun you up for it still? Tb ok! XxX std chgs to send, £1.50 to rcv             |\n",
            "|ham  |Even my brother is not like to speak with me. They treat me like aids patent.                                                                                   |\n",
            "|ham  |As per your request 'Melle Melle (Oru Minnaminunginte Nurungu Vettam)' has been set as your callertune for all Callers. Press *9 to copy your friends Callertune|\n",
            "|spam |WINNER!! As a valued network customer you have been selected to receivea £900 prize reward! To claim call 09061701461. Claim code KL341. Valid 12 hours only.   |\n",
            "|spam |Had your mobile 11 months or more? U R entitled to Update to the latest colour mobiles with camera for Free! Call The Mobile Update Co FREE on 08002986030      |\n",
            "+-----+----------------------------------------------------------------------------------------------------------------------------------------------------------------+\n",
            "only showing top 10 rows\n",
            "\n"
          ]
        }
      ]
    },
    {
      "cell_type": "markdown",
      "id": "2fe744a9",
      "metadata": {
        "id": "2fe744a9"
      },
      "source": [
        "## Data Preparation and Cleaning"
      ]
    },
    {
      "cell_type": "code",
      "execution_count": 10,
      "id": "5424a0cb",
      "metadata": {
        "id": "5424a0cb",
        "colab": {
          "base_uri": "https://localhost:8080/"
        },
        "outputId": "30a71e20-48f3-4e57-b460-51109b2977ab"
      },
      "outputs": [
        {
          "output_type": "stream",
          "name": "stdout",
          "text": [
            "+-----+--------------------+------+\n",
            "|class|                text|length|\n",
            "+-----+--------------------+------+\n",
            "|  ham|Go until jurong p...|   111|\n",
            "|  ham|Ok lar... Joking ...|    29|\n",
            "| spam|Free entry in 2 a...|   155|\n",
            "|  ham|U dun say so earl...|    49|\n",
            "|  ham|Nah I don't think...|    61|\n",
            "| spam|FreeMsg Hey there...|   147|\n",
            "|  ham|Even my brother i...|    77|\n",
            "|  ham|As per your reque...|   160|\n",
            "| spam|WINNER!! As a val...|   157|\n",
            "| spam|Had your mobile 1...|   154|\n",
            "|  ham|I'm gonna be home...|   109|\n",
            "| spam|SIX chances to wi...|   136|\n",
            "| spam|URGENT! You have ...|   155|\n",
            "|  ham|I've been searchi...|   196|\n",
            "|  ham|I HAVE A DATE ON ...|    35|\n",
            "| spam|XXXMobileMovieClu...|   149|\n",
            "|  ham|Oh k...i'm watchi...|    26|\n",
            "|  ham|Eh u remember how...|    81|\n",
            "|  ham|Fine if thats th...|    56|\n",
            "| spam|England v Macedon...|   155|\n",
            "+-----+--------------------+------+\n",
            "only showing top 20 rows\n",
            "\n"
          ]
        }
      ],
      "source": [
        "data = data.withColumn(\"length\", length(\"text\"))\n",
        "data.show()"
      ]
    },
    {
      "cell_type": "code",
      "source": [
        "avg_length = data.groupBy(\"class\").avg(\"length\").withColumnRenamed(\"avg(length)\", \"Avg_Length\")\n",
        "avg_length.show()"
      ],
      "metadata": {
        "colab": {
          "base_uri": "https://localhost:8080/"
        },
        "id": "jN2EvrA_QoAo",
        "outputId": "e085f023-15ae-459a-f461-00c421ac54a4"
      },
      "id": "jN2EvrA_QoAo",
      "execution_count": 11,
      "outputs": [
        {
          "output_type": "stream",
          "name": "stdout",
          "text": [
            "+-----+-----------------+\n",
            "|class|       Avg_Length|\n",
            "+-----+-----------------+\n",
            "|  ham|71.45431945307645|\n",
            "| spam|138.6706827309237|\n",
            "+-----+-----------------+\n",
            "\n"
          ]
        }
      ]
    },
    {
      "cell_type": "markdown",
      "id": "d5e101af",
      "metadata": {
        "id": "d5e101af"
      },
      "source": [
        "## Feature Transformations"
      ]
    },
    {
      "cell_type": "code",
      "execution_count": 12,
      "id": "6a4eebf8",
      "metadata": {
        "id": "6a4eebf8"
      },
      "outputs": [],
      "source": [
        "tokenizer = Tokenizer(inputCol=\"text\", outputCol=\"token_text\")\n",
        "stop_words_remover = StopWordsRemover(inputCol=\"token_text\", outputCol=\"stop_tokens\")\n",
        "count_vec = CountVectorizer(inputCol=\"stop_tokens\", outputCol=\"c_vec\")\n",
        "idf = IDF(inputCol=\"c_vec\", outputCol=\"tf_idf\")"
      ]
    },
    {
      "cell_type": "code",
      "execution_count": 16,
      "id": "aaf46159",
      "metadata": {
        "id": "aaf46159"
      },
      "outputs": [],
      "source": [
        "indexer = StringIndexer(inputCol=\"class\", outputCol=\"label\")\n",
        "assembler = VectorAssembler(inputCols=[\"tf_idf\", \"length\"], outputCol=\"features\")"
      ]
    },
    {
      "cell_type": "markdown",
      "id": "9775d494",
      "metadata": {
        "id": "9775d494"
      },
      "source": [
        "## The Model\n"
      ]
    },
    {
      "cell_type": "code",
      "execution_count": 21,
      "id": "57af0d5d",
      "metadata": {
        "id": "57af0d5d"
      },
      "outputs": [],
      "source": [
        "# Create a NaiveBayes classifier\n",
        "nb = NaiveBayes()\n"
      ]
    },
    {
      "cell_type": "markdown",
      "id": "dc14de63",
      "metadata": {
        "id": "dc14de63"
      },
      "source": [
        "## Pipeline\n"
      ]
    },
    {
      "cell_type": "code",
      "execution_count": 23,
      "id": "8ee0d1ca",
      "metadata": {
        "id": "8ee0d1ca"
      },
      "outputs": [],
      "source": [
        "# a pipeline model\n",
        "pipeline = Pipeline(stages=[tokenizer, stop_words_remover, count_vec, idf, indexer, assembler, nb])"
      ]
    },
    {
      "cell_type": "code",
      "execution_count": 24,
      "id": "2843d997",
      "metadata": {
        "id": "2843d997"
      },
      "outputs": [],
      "source": [
        "train_data, test_data = data.randomSplit([0.7, 0.3])"
      ]
    },
    {
      "cell_type": "code",
      "execution_count": 25,
      "id": "3c5d4681",
      "metadata": {
        "id": "3c5d4681"
      },
      "outputs": [],
      "source": [
        "model = pipeline.fit(train_data)"
      ]
    },
    {
      "cell_type": "code",
      "execution_count": 26,
      "id": "14f4aab5",
      "metadata": {
        "id": "14f4aab5"
      },
      "outputs": [],
      "source": [
        "predictions = model.transform(test_data)"
      ]
    },
    {
      "cell_type": "markdown",
      "id": "bce2885f",
      "metadata": {
        "id": "bce2885f"
      },
      "source": [
        "### Print the schema of the prediction dataframe"
      ]
    },
    {
      "cell_type": "code",
      "source": [
        "predictions.printSchema()"
      ],
      "metadata": {
        "colab": {
          "base_uri": "https://localhost:8080/"
        },
        "id": "VZsPi3i4R61s",
        "outputId": "0a3d98c5-cba1-40fa-fc98-95238dc5b0ae"
      },
      "id": "VZsPi3i4R61s",
      "execution_count": 21,
      "outputs": [
        {
          "output_type": "stream",
          "name": "stdout",
          "text": [
            "root\n",
            " |-- class: string (nullable = true)\n",
            " |-- text: string (nullable = true)\n",
            " |-- length: integer (nullable = true)\n",
            " |-- token_text: array (nullable = true)\n",
            " |    |-- element: string (containsNull = true)\n",
            " |-- stop_tokens: array (nullable = true)\n",
            " |    |-- element: string (containsNull = true)\n",
            " |-- c_vec: vector (nullable = true)\n",
            " |-- tf_idf: vector (nullable = true)\n",
            " |-- label: double (nullable = false)\n",
            " |-- features: vector (nullable = true)\n",
            " |-- rawPrediction: vector (nullable = true)\n",
            " |-- probability: vector (nullable = true)\n",
            " |-- prediction: double (nullable = false)\n",
            "\n"
          ]
        }
      ]
    },
    {
      "cell_type": "markdown",
      "id": "57f27055",
      "metadata": {
        "id": "57f27055"
      },
      "source": [
        "## Model Evaluation"
      ]
    },
    {
      "cell_type": "code",
      "execution_count": 27,
      "id": "61911086",
      "metadata": {
        "id": "61911086",
        "colab": {
          "base_uri": "https://localhost:8080/"
        },
        "outputId": "ec0e1c6d-60e4-4ac5-f5b4-0cf0551bc15d"
      },
      "outputs": [
        {
          "output_type": "stream",
          "name": "stdout",
          "text": [
            "f1_score is: 0.9826402170280536\n"
          ]
        }
      ],
      "source": [
        "evaluator = MulticlassClassificationEvaluator(predictionCol=\"prediction\", labelCol=\"label\", metricName=\"f1\")\n",
        "f1_score = evaluator.evaluate(predictions)\n",
        "print(\"f1_score is:\", f1_score)"
      ]
    },
    {
      "cell_type": "code",
      "source": [
        "\n",
        "#Predicting with real SMS after evalution\n",
        "custom_sms = spark.createDataFrame([(0, \"Hello son dinner is ready\")], [\"id\", \"text\"])\n",
        "custom_sms = custom_sms.withColumn(\"length\", length(\"text\"))\n",
        "custom_predictions = model.transform(custom_sms)\n",
        "custom_predictions.select(\"text\", \"prediction\").show()"
      ],
      "metadata": {
        "colab": {
          "base_uri": "https://localhost:8080/"
        },
        "id": "XjRoLL0WS4S7",
        "outputId": "bc1f53b3-61fb-4ed4-b0dd-1e96613b191e"
      },
      "id": "XjRoLL0WS4S7",
      "execution_count": 28,
      "outputs": [
        {
          "output_type": "stream",
          "name": "stdout",
          "text": [
            "+--------------------+----------+\n",
            "|                text|prediction|\n",
            "+--------------------+----------+\n",
            "|Hello son dinner ...|       0.0|\n",
            "+--------------------+----------+\n",
            "\n"
          ]
        }
      ]
    },
    {
      "cell_type": "code",
      "source": [
        "custom_sms = spark.createDataFrame([(0, \"Hello son dinner is ready\"),\n",
        "                                    (1, \"free access send visa\"),\n",
        "                                    (2, \"meeting is cancelled\")],\n",
        "                                   [\"id\", \"text\"])\n",
        "custom_sms = custom_sms.withColumn(\"length\", length(\"text\"))\n",
        "custom_predictions = model.transform(custom_sms)\n",
        "custom_predictions.select(\"text\", \"prediction\").show()"
      ],
      "metadata": {
        "colab": {
          "base_uri": "https://localhost:8080/"
        },
        "id": "tamce8yABZU5",
        "outputId": "84552e1e-42dd-40d1-fcbb-497d252ea087"
      },
      "id": "tamce8yABZU5",
      "execution_count": 29,
      "outputs": [
        {
          "output_type": "stream",
          "name": "stdout",
          "text": [
            "+--------------------+----------+\n",
            "|                text|prediction|\n",
            "+--------------------+----------+\n",
            "|Hello son dinner ...|       0.0|\n",
            "|free access send ...|       1.0|\n",
            "|meeting is cancelled|       0.0|\n",
            "+--------------------+----------+\n",
            "\n"
          ]
        }
      ]
    }
  ],
  "metadata": {
    "kernelspec": {
      "display_name": "Python 3 (ipykernel)",
      "language": "python",
      "name": "python3"
    },
    "language_info": {
      "codemirror_mode": {
        "name": "ipython",
        "version": 3
      },
      "file_extension": ".py",
      "mimetype": "text/x-python",
      "name": "python",
      "nbconvert_exporter": "python",
      "pygments_lexer": "ipython3",
      "version": "3.9.12"
    },
    "colab": {
      "provenance": []
    }
  },
  "nbformat": 4,
  "nbformat_minor": 5
}